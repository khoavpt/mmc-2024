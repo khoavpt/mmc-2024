{
 "cells": [
  {
   "cell_type": "code",
   "execution_count": 1,
   "metadata": {},
   "outputs": [],
   "source": [
    "import sys\n",
    "sys.path.append('../')\n",
    "\n",
    "import pandas as pd\n",
    "import numpy as np\n",
    "import pygad\n",
    "\n"
   ]
  },
  {
   "cell_type": "code",
   "execution_count": 2,
   "metadata": {},
   "outputs": [],
   "source": [
    "np.random.seed(42)"
   ]
  },
  {
   "cell_type": "markdown",
   "metadata": {},
   "source": [
    "## Utils"
   ]
  },
  {
   "cell_type": "code",
   "execution_count": 3,
   "metadata": {},
   "outputs": [],
   "source": [
    "def matrixes_to_solution(A, B, C, num_days):\n",
    "    \"\"\"\n",
    "    Args:\n",
    "        A: 3D ndarray of shape (num_doctor1, num_faculties, num_days)\n",
    "        B: 3D ndarray of shape (num_doctor2, num_faculties, num_days)\n",
    "        C: 3D ndarray of shape (num_nurse, num_faculties, num_days)\n",
    "    Returns:\n",
    "        solution: 1D ndarray of shape (num_doctor1 + num_doctor2 + num_nurse) * num_faculties * num_days\n",
    "    \"\"\"\n",
    "    A = A.reshape(-1, num_days)\n",
    "    B = B.reshape(-1, num_days)\n",
    "    C = C.reshape(-1, num_days)\n",
    "    merged = np.concatenate([A, B, C], axis=0).swapaxes(0, 1)\n",
    "    return merged.flatten()\n",
    "\n",
    "def solution_to_matrixes(solution, num_doctor1, num_doctor2, num_nurse, num_faculties, num_days):\n",
    "    \"\"\"\n",
    "    Args:\n",
    "        solution: 1D ndarray of shape (num_doctor1 + num_doctor2 + num_nurse) * num_faculties * num_days\n",
    "        num_doctor1: Number of doctors in group 1\n",
    "        num_doctor2: Number of doctors in group 2\n",
    "        num_nurse: Number of nurses\n",
    "        num_faculties: Number of faculties\n",
    "        num_days: Number of days\n",
    "    Returns:\n",
    "        A: 3D ndarray of shape (num_doctor1, num_faculties, num_days)\n",
    "        B: 3D ndarray of shape (num_doctor2, num_faculties, num_days)\n",
    "        C: 3D ndarray of shape (num_nurse, num_faculties, num_days)\n",
    "    \"\"\"\n",
    "    solution = solution.reshape(num_days, -1).swapaxes(0, 1)\n",
    "    endA = num_doctor1 * num_faculties\n",
    "    endB = endA + num_doctor2 * num_faculties\n",
    "\n",
    "    A = solution[:endA].reshape(num_doctor1, num_faculties, num_days)\n",
    "    B = solution[endA:endB].reshape(num_doctor2, num_faculties, num_days)\n",
    "    C = solution[endB:].reshape(num_nurse, num_faculties, num_days)\n",
    "\n",
    "    return A, B, C\n",
    "\n",
    "\n",
    "def sigmoid(x):\n",
    "    return 1 / (1 + np.exp(-x))\n",
    "\n"
   ]
  },
  {
   "cell_type": "markdown",
   "metadata": {},
   "source": [
    "## Dataset Class"
   ]
  },
  {
   "cell_type": "code",
   "execution_count": 5,
   "metadata": {},
   "outputs": [],
   "source": [
    "def read_to_numpy(file_path):\n",
    "    \"\"\"\n",
    "    Args:\n",
    "        file_path: Path to the csv file\n",
    "    Returns:\n",
    "        year_data: 2D ndarray of shape (num_rows, num_faculties)\n",
    "                   where year_data[i, j] = years of experience of ith person in jth faculty if exists, 0 otherwise\n",
    "    \"\"\"\n",
    "    data = pd.read_csv(file_path, index_col=False).to_numpy()\n",
    "    num_faculties = np.max(data[:, 1]) + 1\n",
    "    year_data = np.zeros((data.shape[0], num_faculties))\n",
    "    for i in range(data.shape[0]):\n",
    "        year_data[i, data[i, 1]] = data[i, 0]\n",
    "    return year_data # 2D ndarray of shape (num_rows, num_faculties)\n",
    "\n",
    "class Dataset:\n",
    "    def __init__(self, doctor1_file_path, doctor2_file_path, nurse_file_path, num_doctor1_per_day=1, num_doctor2_per_day=1, num_nurse_per_day=2, num_faculties=4, num_days=61):\n",
    "        self.doctor1_data = read_to_numpy(doctor1_file_path) # 2D ndarray of shape (num_doctor1, num_faculties)\n",
    "        self.doctor2_data = read_to_numpy(doctor2_file_path) # 2D ndarray of shape (num_doctor2, num_faculties)\n",
    "        self.nurse_data = read_to_numpy(nurse_file_path) # 2D ndarray of shape (num_nurse, num_faculties)\n",
    "\n",
    "        self.num_doctor1 = self.doctor1_data.shape[0] \n",
    "        self.num_doctor2 = self.doctor2_data.shape[0]\n",
    "        self.num_nurse = self.nurse_data.shape[0]\n",
    "\n",
    "        self.num_doctor1_per_day = num_doctor1_per_day\n",
    "        self.num_doctor2_per_day = num_doctor2_per_day\n",
    "        self.num_nurse_per_day = num_nurse_per_day\n",
    "\n",
    "        self.num_faculties = num_faculties\n",
    "        self.num_days = num_days\n",
    "    \n",
    "    def get_data(self):\n",
    "        return self.doctor1_data, self.doctor2_data, self.nurse_data\n"
   ]
  },
  {
   "cell_type": "code",
   "execution_count": 6,
   "metadata": {},
   "outputs": [],
   "source": [
    "dataset = Dataset('../data/doctor_1.csv', '../data/doctor_2.csv', '../data/nurse.csv')"
   ]
  },
  {
   "cell_type": "code",
   "execution_count": 10,
   "metadata": {},
   "outputs": [
    {
     "data": {
      "text/plain": [
       "array([[ 0,  0],\n",
       "       [ 1,  0],\n",
       "       [ 2,  0],\n",
       "       [ 3,  1],\n",
       "       [ 4,  1],\n",
       "       [ 5,  1],\n",
       "       [ 6,  1],\n",
       "       [ 7,  1],\n",
       "       [ 8,  1],\n",
       "       [ 9,  2],\n",
       "       [10,  2],\n",
       "       [11,  2],\n",
       "       [12,  2],\n",
       "       [13,  2],\n",
       "       [14,  2],\n",
       "       [15,  3],\n",
       "       [16,  3],\n",
       "       [17,  3],\n",
       "       [18,  3]], dtype=int64)"
      ]
     },
     "execution_count": 10,
     "metadata": {},
     "output_type": "execute_result"
    }
   ],
   "source": [
    "a = np.nonzero(dataset.doctor1_data)\n",
    "a = np.transpose(a)\n",
    "a"
   ]
  },
  {
   "cell_type": "markdown",
   "metadata": {},
   "source": [
    "## Fitness Function"
   ]
  },
  {
   "cell_type": "code",
   "execution_count": 6,
   "metadata": {},
   "outputs": [],
   "source": [
    "class FitnessFunction:\n",
    "    def __init__(self, dataset, lambda1=0.1, lambda2=1, lambda3=1, lambda4=1):\n",
    "        self.lambda1 = lambda1\n",
    "        self.lambda2 = lambda2\n",
    "        self.lambda3 = lambda3\n",
    "        self.lambda4 = lambda4\n",
    "        self.dataset = dataset\n",
    "        self.doctor1_data, self.doctor2_data, self.nurse_data = dataset.get_data()\n",
    "\n",
    "    def soft_constraint_1(self, solution):\n",
    "        \"\"\"\n",
    "        Idea: A day should be covered by all faculties\n",
    "        => Penalize days that are not covered by all faculties (Add 1 for the number of faculties that are not covered for each day)\n",
    "\n",
    "        Args:\n",
    "            solution: 1D ndarray of shape (num_doctor1 + num_doctor2 + num_nurse) * num_faculties * num_days\n",
    "        Returns:\n",
    "            float\n",
    "        \"\"\"\n",
    "        A, B, C = solution_to_matrixes(solution, self.dataset.num_doctor1, self.dataset.num_doctor2, self.dataset.num_nurse, self.dataset.num_faculties, self.dataset.num_days)\n",
    "        num_people_per_faculty_per_day = np.sum(np.concatenate([A, B, C], axis=0), axis=0) # shape: (num_faculties, num_days)\n",
    "        num_faculty_per_day = np.sum(num_people_per_faculty_per_day!=0, axis=0) # shape: (num_days\n",
    "        num_faculties_not_covered_per_day = self.dataset.num_faculties - num_faculty_per_day # shape: (num_days,)\n",
    "        fitness = 1 / np.sum(num_faculties_not_covered_per_day) # float\n",
    "\n",
    "        return sigmoid(fitness) # float in [0, 1]\n",
    "\n",
    "    def soft_constraint_2(self, solution):\n",
    "        \"\"\"\n",
    "        Idea: A day should not have too low total years of experience\n",
    "        => Maximize the total years of experience of people working on all days\n",
    "        Args:\n",
    "            solution: 1D ndarray of shape (num_doctor1 + num_doctor2 + num_nurse) * num_faculties * num_days\n",
    "        Returns:\n",
    "            float\n",
    "        \"\"\"\n",
    "        A, B, C = solution_to_matrixes(solution, self.dataset.num_doctor1, self.dataset.num_doctor2, self.dataset.num_nurse, self.dataset.num_faculties, self.dataset.num_days)\n",
    "        total_doc1_years = np.sum(np.sum(A, axis=2) * self.doctor1_data) # float\n",
    "        total_doc2_years = np.sum(np.sum(B, axis=2) * self.doctor2_data)\n",
    "        total_nurse_years = np.sum(np.sum(C, axis=2) * self.nurse_data)\n",
    "        fitness = -1 / (total_doc1_years + total_doc2_years + total_nurse_years) # float\n",
    "\n",
    "        return sigmoid(fitness) # float in [0, 1]\n",
    "\n",
    "\n",
    "    def soft_constraint_4(self, solution):\n",
    "        \"\"\"\n",
    "        Idea: Doctors and nurses should not work too much or too little\n",
    "        => Penalize long consecutive working days for doctors and nurses\n",
    "\n",
    "        Args:\n",
    "            solution: 1D ndarray of shape (num_doctor1 + num_doctor2 + num_nurse) * num_faculties * num_days\n",
    "        Returns:\n",
    "            float\n",
    "        \"\"\"\n",
    "        A, B, C = solution_to_matrixes(solution, self.dataset.num_doctor1, self.dataset.num_doctor2, self.dataset.num_nurse, self.dataset.num_faculties, self.dataset.num_days)\n",
    "        nurse_workload = np.sum(C, axis=2) # shape: (num_nurse, num_faculties)\n",
    "        max_nurse_workload_diff = np.max(nurse_workload) - np.min(nurse_workload) # float\n",
    "\n",
    "        both_doctor_workload = np.sum(np.concatenate([A, B], axis=0), axis=2) # shape: (num_doctor1 + num_doctor2, num_faculties)\n",
    "        max_doctor_workload_diff = np.max(both_doctor_workload) - np.min(both_doctor_workload) # float\n",
    "        fitness = 1 / (max_nurse_workload_diff + max_doctor_workload_diff) # float\n",
    "\n",
    "        return sigmoid(fitness) # float in [0, 1]\n",
    "\n",
    "        return \n",
    "    def violate_hard_constraint(self, solution):\n",
    "        \"\"\"\n",
    "        Idea: Every need to have self.dataset.num_doctor1_per_day doctor1, self.dataset.num_doctor2_per_day doctor2, self.dataset.num_nurse_per_day nurse\n",
    "        Args:\n",
    "            solution: 1D ndarray of shape (num_doctor1 + num_doctor2 + num_nurse) * num_faculties * num_days\n",
    "        Returns:\n",
    "            bool: True if the solution violates the hard constraint, False otherwise\n",
    "        \"\"\"\n",
    "        A, B, C = solution_to_matrixes(solution, self.dataset.num_doctor1, self.dataset.num_doctor2, self.dataset.num_nurse, self.dataset.num_faculties, self.dataset.num_days)\n",
    "        num_doctor1_per_day = np.sum(A, axis=(0, 1)) # shape: (num_days,)\n",
    "        num_doctor2_per_day = np.sum(B, axis=(0, 1))\n",
    "        num_nurse_per_day = np.sum(C, axis=(0, 1))\n",
    "\n",
    "        return np.any(num_doctor1_per_day != self.dataset.num_doctor1_per_day) or np.any(num_doctor2_per_day != self.dataset.num_doctor2_per_day) or np.any(num_nurse_per_day != self.dataset.num_nurse_per_day)\n",
    "        \n",
    "    def fitness_function(self, solution):\n",
    "        \"\"\"\n",
    "        Args:\n",
    "            solution: 1D ndarray of shape (num_doctor1 + num_doctor2 + num_nurse) * num_faculties * num_days\n",
    "        Returns:\n",
    "            float\n",
    "        \"\"\"\n",
    "        # return self.lambda1*self.soft_constraint_1(solution) + self.lambda4*self.soft_constraint_4(solution)\n",
    "        if self.violate_hard_constraint(solution):\n",
    "            return -np.inf\n",
    "        else:\n",
    "            print(\"Passed!\")\n",
    "        return self.lambda1*self.soft_constraint_1(solution) + self.lambda2*self.soft_constraint_2(solution) + self.lambda4*self.soft_constraint_4(solution)"
   ]
  },
  {
   "cell_type": "code",
   "execution_count": 7,
   "metadata": {},
   "outputs": [],
   "source": [
    "_fitness_function = FitnessFunction(dataset, lambda1=1, lambda2=1, lambda3=1, lambda4=1)\n",
    "\n",
    "def fitness_func(ga_instance, solution, solution_idx):\n",
    "    return _fitness_function.fitness_function(solution)"
   ]
  },
  {
   "cell_type": "code",
   "execution_count": 8,
   "metadata": {},
   "outputs": [
    {
     "data": {
      "text/plain": [
       "(2, 3)"
      ]
     },
     "execution_count": 8,
     "metadata": {},
     "output_type": "execute_result"
    }
   ],
   "source": [
    "a = np.ones((2, 3, 4))\n",
    "b = np.ones((2, 3))\n",
    "np.sum(a, axis=(2)).shape"
   ]
  },
  {
   "cell_type": "markdown",
   "metadata": {},
   "source": [
    "## Population Generator\n"
   ]
  },
  {
   "cell_type": "code",
   "execution_count": 9,
   "metadata": {},
   "outputs": [],
   "source": [
    "def generate_matrix_with_constraint(dim1, dim2, dim3, num_per_slice_dim3):\n",
    "    \"\"\"\n",
    "    Args:\n",
    "        dim1: int\n",
    "        dim2: int\n",
    "        dim3: int\n",
    "        num_per_slice_dim3: int\n",
    "    Returns:\n",
    "        3D ndarray of shape (dim1, dim2, dim3)\n",
    "    \"\"\"\n",
    "    matrix = np.zeros((dim1, dim2, dim3))\n",
    "    for k in range(dim3):\n",
    "        assigned_positions = set()\n",
    "        for i in range(num_per_slice_dim3):\n",
    "            i, j = np.random.randint(dim1), np.random.randint(dim2)\n",
    "            while (i, j) in assigned_positions:\n",
    "                i, j = np.random.randint(dim1), np.random.randint(dim2)\n",
    "            matrix[i, j, k] = 1\n",
    "            assigned_positions.add((i, j))\n",
    "    return matrix\n",
    "\n",
    "\n",
    "def generate_feasible_individual(num_faculties, num_days, num_doctor1, num_doctor2, num_nurse, num_doctor1_per_day, num_doctor2_per_day, num_nurse_per_day):\n",
    "    A = generate_matrix_with_constraint(num_doctor1, num_faculties, num_days, num_doctor1_per_day)\n",
    "    B = generate_matrix_with_constraint(num_doctor2, num_faculties, num_days, num_doctor2_per_day)\n",
    "    C = generate_matrix_with_constraint(num_nurse, num_faculties, num_days, num_nurse_per_day)\n",
    "    return matrixes_to_solution(A, B, C, num_days) # 1D ndarray of shape (num_doctor1 + num_doctor2 + num_nurse) * num_faculties * num_days\n",
    "\n",
    "def generate_feasible_population(population_size, num_faculties, num_days, num_doctor1, num_doctor2, num_nurse, num_doctor1_per_day, num_doctor2_per_day, num_nurse_per_day):\n",
    "    return [generate_feasible_individual(num_faculties, num_days, num_doctor1, num_doctor2, num_nurse, num_doctor1_per_day, num_doctor2_per_day, num_nurse_per_day) for _ in range(population_size)]\n"
   ]
  },
  {
   "cell_type": "code",
   "execution_count": 10,
   "metadata": {},
   "outputs": [],
   "source": [
    "sol = generate_feasible_individual(num_faculties=4, num_days=61, num_doctor1=19, num_doctor2=17, num_nurse=44, num_doctor1_per_day=1, num_doctor2_per_day=1, num_nurse_per_day=2)\n",
    "A, B, C = solution_to_matrixes(sol, num_doctor1=19, num_doctor2=17, num_nurse=44, num_faculties=4, num_days=61)"
   ]
  },
  {
   "cell_type": "code",
   "execution_count": 11,
   "metadata": {},
   "outputs": [
    {
     "data": {
      "text/plain": [
       "array([1., 1., 1., 1., 1., 1., 1., 1., 1., 1., 1., 1., 1., 1., 1., 1., 1.,\n",
       "       1., 1., 1., 1., 1., 1., 1., 1., 1., 1., 1., 1., 1., 1., 1., 1., 1.,\n",
       "       1., 1., 1., 1., 1., 1., 1., 1., 1., 1., 1., 1., 1., 1., 1., 1., 1.,\n",
       "       1., 1., 1., 1., 1., 1., 1., 1., 1., 1.])"
      ]
     },
     "execution_count": 11,
     "metadata": {},
     "output_type": "execute_result"
    }
   ],
   "source": [
    "np.sum(A, axis=(0, 1))"
   ]
  },
  {
   "cell_type": "markdown",
   "metadata": {},
   "source": [
    "## Genetic Algorithm"
   ]
  },
  {
   "cell_type": "code",
   "execution_count": 12,
   "metadata": {},
   "outputs": [],
   "source": [
    "class GeneticAlgorithm:\n",
    "    def __init__(self, num_genes, fitness_func, dataset, num_generations=100, num_parents_mating=10, sol_per_pop=20, parent_selection_type=\"sss\", mutation_percent_genes=10):\n",
    "        self.num_generations = num_generations\n",
    "        self.num_parents_mating = num_parents_mating\n",
    "        self.sol_per_pop = sol_per_pop\n",
    "        self.num_genes = num_genes\n",
    "        self.parent_selection_type = parent_selection_type\n",
    "        self.mutation_percent_genes = mutation_percent_genes\n",
    "        self.fitness_func = fitness_func\n",
    "        self.dataset = dataset\n",
    "    @staticmethod\n",
    "    def custom_crossover_func(parents, offspring_size, ga_instance):\n",
    "        \"\"\"\n",
    "        Args:\n",
    "            parents: 2D ndarray of shape (num_parents, num_genes)\n",
    "            offspring_size: tuple of 2 numbers (the offspring size, number of genes).\n",
    "        \"\"\"\n",
    "        offspring = []\n",
    "        idx = 0\n",
    "        while len(offspring) != offspring_size[0]:\n",
    "            parent1 = parents[idx % parents.shape[0], :].copy()\n",
    "            parent2 = parents[(idx + 1) % parents.shape[0], :].copy()\n",
    "            \n",
    "            num_days = 61\n",
    "            num_genes_per_day = offspring_size[1] // num_days\n",
    "            random_split_point = np.random.choice(range(num_days)) * num_genes_per_day\n",
    "\n",
    "            parent1[random_split_point:] = parent2[random_split_point:]\n",
    "\n",
    "            offspring.append(parent1)\n",
    "\n",
    "            idx += 1\n",
    "\n",
    "        return np.array(offspring)\n",
    "\n",
    "    @staticmethod\n",
    "    def custom_mutation_func(offspring, ga_instance):\n",
    "        \"\"\"\n",
    "        Args:\n",
    "            offspring: 2D ndarray of shape (num_offspring, num_genes)\n",
    "        Returns:\n",
    "            1D ndarray of shape (num_genes,)\n",
    "        \"\"\"\n",
    "        random_chromosome_idx = np.random.randint(offspring.shape[0])\n",
    "        offspring[random_chromosome_idx, :] = generate_feasible_individual(num_faculties=4, num_days=61, num_doctor1=19, num_doctor2=17, num_nurse=44, num_doctor1_per_day=1, num_doctor2_per_day=1, num_nurse_per_day=2)\n",
    "        return offspring\n",
    "\n",
    "\n",
    "    def setup(self, initial_population):\n",
    "        self.ga_instance = pygad.GA(num_generations=self.num_generations,\n",
    "                                    num_parents_mating=self.num_parents_mating,\n",
    "                                    fitness_func=self.fitness_func,\n",
    "                                    num_genes=self.num_genes,\n",
    "                                    parent_selection_type=self.parent_selection_type,\n",
    "                                    crossover_type=GeneticAlgorithm.custom_crossover_func,\n",
    "                                    mutation_type=GeneticAlgorithm.custom_mutation_func,\n",
    "                                    mutation_percent_genes=self.mutation_percent_genes,\n",
    "                                    sol_per_pop=self.sol_per_pop,\n",
    "                                    initial_population=initial_population,\n",
    "                                    gene_space=[0, 1])\n",
    "\n",
    "    def run(self):\n",
    "        print(\"Start running...\")\n",
    "        self.ga_instance.run()\n",
    "        solution, solution_fitness, solution_idx = self.ga_instance.best_solution()\n",
    "        print(\"Run finished!\")\n",
    "        print(f\"Fitness value of the best solution: {solution_fitness}\")\n",
    "        return solution, solution_fitness, solution_idx\n",
    "\n",
    "    def plot_results(self):\n",
    "        self.ga_instance.plot_fitness()"
   ]
  },
  {
   "cell_type": "code",
   "execution_count": 14,
   "metadata": {},
   "outputs": [
    {
     "name": "stderr",
     "output_type": "stream",
     "text": [
      "c:\\Users\\LENOVO\\AppData\\Local\\Programs\\Python\\Python310\\lib\\site-packages\\pygad\\pygad.py:1139: UserWarning: The 'delay_after_gen' parameter is deprecated starting from PyGAD 3.3.0. To delay or pause the evolution after each generation, assign a callback function/method to the 'on_generation' parameter to adds some time delay.\n",
      "  warnings.warn(\"The 'delay_after_gen' parameter is deprecated starting from PyGAD 3.3.0. To delay or pause the evolution after each generation, assign a callback function/method to the 'on_generation' parameter to adds some time delay.\")\n"
     ]
    }
   ],
   "source": [
    "algo = GeneticAlgorithm(num_genes=(19 + 17 + 44) * 4 * 61,\n",
    "                        dataset=dataset,\n",
    "                        num_generations=500,\n",
    "                        num_parents_mating=20,\n",
    "                        sol_per_pop=70,\n",
    "                        parent_selection_type=\"sss\",\n",
    "                        mutation_percent_genes=10,\n",
    "                        fitness_func=fitness_func)\n",
    "initial_population = generate_feasible_population(population_size=50, \n",
    "                                                  num_faculties=4, \n",
    "                                                  num_days=61, \n",
    "                                                  num_doctor1=19, \n",
    "                                                  num_doctor2=17, \n",
    "                                                  num_nurse=44, \n",
    "                                                  num_doctor1_per_day=1, \n",
    "                                                  num_doctor2_per_day=1, \n",
    "                                                  num_nurse_per_day=2,)\n",
    "algo.setup(initial_population)"
   ]
  },
  {
   "cell_type": "code",
   "execution_count": 15,
   "metadata": {},
   "outputs": [
    {
     "name": "stdout",
     "output_type": "stream",
     "text": [
      "Start running...\n",
      "Passed!\n",
      "Passed!\n",
      "Passed!\n",
      "Passed!\n",
      "Passed!\n",
      "Passed!\n",
      "Passed!\n",
      "Passed!\n",
      "Passed!\n",
      "Passed!\n",
      "Passed!\n",
      "Passed!\n",
      "Passed!\n",
      "Passed!\n",
      "Passed!\n",
      "Passed!\n",
      "Passed!\n",
      "Passed!\n",
      "Passed!\n",
      "Passed!\n",
      "Passed!\n",
      "Passed!\n",
      "Passed!\n",
      "Passed!\n",
      "Passed!\n",
      "Passed!\n",
      "Passed!\n",
      "Passed!\n",
      "Passed!\n",
      "Passed!\n",
      "Passed!\n",
      "Passed!\n",
      "Passed!\n",
      "Passed!\n",
      "Passed!\n",
      "Passed!\n",
      "Passed!\n",
      "Passed!\n",
      "Passed!\n",
      "Passed!\n",
      "Passed!\n",
      "Passed!\n",
      "Passed!\n",
      "Passed!\n",
      "Passed!\n",
      "Passed!\n",
      "Passed!\n",
      "Passed!\n",
      "Passed!\n",
      "Passed!\n",
      "Passed!\n",
      "Passed!\n",
      "Passed!\n",
      "Passed!\n",
      "Passed!\n",
      "Passed!\n",
      "Passed!\n",
      "Passed!\n",
      "Passed!\n",
      "Passed!\n",
      "Passed!\n",
      "Passed!\n",
      "Passed!\n",
      "Passed!\n",
      "Passed!\n",
      "Passed!\n",
      "Passed!\n",
      "Passed!\n",
      "Passed!\n",
      "Passed!\n",
      "Passed!\n",
      "Passed!\n",
      "Passed!\n",
      "Passed!\n",
      "Passed!\n",
      "Passed!\n",
      "Passed!\n",
      "Passed!\n",
      "Passed!\n",
      "Passed!\n",
      "Passed!\n",
      "Passed!\n",
      "Passed!\n",
      "Passed!\n",
      "Passed!\n",
      "Passed!\n",
      "Passed!\n",
      "Passed!\n",
      "Passed!\n",
      "Passed!\n",
      "Passed!\n",
      "Passed!\n",
      "Passed!\n",
      "Passed!\n",
      "Passed!\n",
      "Passed!\n",
      "Passed!\n",
      "Passed!\n",
      "Passed!\n",
      "Passed!\n",
      "Passed!\n",
      "Passed!\n",
      "Passed!\n",
      "Passed!\n",
      "Passed!\n",
      "Passed!\n",
      "Passed!\n",
      "Passed!\n",
      "Passed!\n",
      "Passed!\n",
      "Passed!\n",
      "Passed!\n",
      "Passed!\n",
      "Passed!\n",
      "Passed!\n",
      "Passed!\n",
      "Passed!\n",
      "Passed!\n",
      "Passed!\n",
      "Passed!\n",
      "Passed!\n",
      "Passed!\n",
      "Passed!\n",
      "Passed!\n",
      "Passed!\n",
      "Passed!\n",
      "Passed!\n",
      "Passed!\n",
      "Passed!\n",
      "Passed!\n",
      "Passed!\n",
      "Passed!\n",
      "Passed!\n",
      "Passed!\n",
      "Passed!\n",
      "Passed!\n",
      "Passed!\n",
      "Passed!\n",
      "Passed!\n",
      "Passed!\n",
      "Passed!\n",
      "Passed!\n",
      "Passed!\n",
      "Passed!\n",
      "Passed!\n",
      "Passed!\n",
      "Passed!\n",
      "Passed!\n",
      "Passed!\n",
      "Passed!\n",
      "Passed!\n",
      "Passed!\n",
      "Passed!\n",
      "Passed!\n",
      "Passed!\n",
      "Passed!\n",
      "Passed!\n",
      "Passed!\n",
      "Passed!\n",
      "Passed!\n",
      "Passed!\n",
      "Passed!\n",
      "Passed!\n",
      "Passed!\n",
      "Passed!\n",
      "Passed!\n",
      "Passed!\n",
      "Passed!\n",
      "Passed!\n",
      "Passed!\n",
      "Passed!\n",
      "Passed!\n",
      "Passed!\n",
      "Passed!\n",
      "Passed!\n",
      "Passed!\n",
      "Passed!\n",
      "Passed!\n",
      "Passed!\n",
      "Passed!\n",
      "Passed!\n",
      "Passed!\n",
      "Passed!\n",
      "Passed!\n",
      "Passed!\n",
      "Passed!\n",
      "Passed!\n",
      "Passed!\n",
      "Passed!\n",
      "Passed!\n",
      "Passed!\n",
      "Passed!\n",
      "Passed!\n",
      "Passed!\n",
      "Passed!\n",
      "Passed!\n",
      "Passed!\n",
      "Passed!\n",
      "Passed!\n",
      "Passed!\n",
      "Passed!\n",
      "Passed!\n",
      "Passed!\n",
      "Passed!\n",
      "Passed!\n",
      "Passed!\n",
      "Passed!\n",
      "Passed!\n",
      "Passed!\n",
      "Passed!\n",
      "Passed!\n",
      "Passed!\n",
      "Passed!\n",
      "Passed!\n",
      "Passed!\n",
      "Passed!\n",
      "Passed!\n",
      "Passed!\n",
      "Passed!\n",
      "Passed!\n",
      "Passed!\n",
      "Passed!\n",
      "Passed!\n",
      "Passed!\n",
      "Passed!\n",
      "Passed!\n",
      "Passed!\n",
      "Passed!\n",
      "Passed!\n",
      "Passed!\n",
      "Passed!\n"
     ]
    },
    {
     "ename": "KeyboardInterrupt",
     "evalue": "",
     "output_type": "error",
     "traceback": [
      "\u001b[1;31m---------------------------------------------------------------------------\u001b[0m",
      "\u001b[1;31mKeyboardInterrupt\u001b[0m                         Traceback (most recent call last)",
      "Cell \u001b[1;32mIn[15], line 1\u001b[0m\n\u001b[1;32m----> 1\u001b[0m solution, _, _ \u001b[38;5;241m=\u001b[39m \u001b[43malgo\u001b[49m\u001b[38;5;241;43m.\u001b[39;49m\u001b[43mrun\u001b[49m\u001b[43m(\u001b[49m\u001b[43m)\u001b[49m\n",
      "Cell \u001b[1;32mIn[12], line 64\u001b[0m, in \u001b[0;36mGeneticAlgorithm.run\u001b[1;34m(self)\u001b[0m\n\u001b[0;32m     62\u001b[0m \u001b[38;5;28;01mdef\u001b[39;00m \u001b[38;5;21mrun\u001b[39m(\u001b[38;5;28mself\u001b[39m):\n\u001b[0;32m     63\u001b[0m     \u001b[38;5;28mprint\u001b[39m(\u001b[38;5;124m\"\u001b[39m\u001b[38;5;124mStart running...\u001b[39m\u001b[38;5;124m\"\u001b[39m)\n\u001b[1;32m---> 64\u001b[0m     \u001b[38;5;28;43mself\u001b[39;49m\u001b[38;5;241;43m.\u001b[39;49m\u001b[43mga_instance\u001b[49m\u001b[38;5;241;43m.\u001b[39;49m\u001b[43mrun\u001b[49m\u001b[43m(\u001b[49m\u001b[43m)\u001b[49m\n\u001b[0;32m     65\u001b[0m     solution, solution_fitness, solution_idx \u001b[38;5;241m=\u001b[39m \u001b[38;5;28mself\u001b[39m\u001b[38;5;241m.\u001b[39mga_instance\u001b[38;5;241m.\u001b[39mbest_solution()\n\u001b[0;32m     66\u001b[0m     \u001b[38;5;28mprint\u001b[39m(\u001b[38;5;124m\"\u001b[39m\u001b[38;5;124mRun finished!\u001b[39m\u001b[38;5;124m\"\u001b[39m)\n",
      "File \u001b[1;32mc:\\Users\\LENOVO\\AppData\\Local\\Programs\\Python\\Python310\\lib\\site-packages\\pygad\\pygad.py:1980\u001b[0m, in \u001b[0;36mGA.run\u001b[1;34m(self)\u001b[0m\n\u001b[0;32m   1978\u001b[0m \u001b[38;5;28mself\u001b[39m\u001b[38;5;241m.\u001b[39mprevious_generation_fitness \u001b[38;5;241m=\u001b[39m \u001b[38;5;28mself\u001b[39m\u001b[38;5;241m.\u001b[39mlast_generation_fitness\u001b[38;5;241m.\u001b[39mcopy()\n\u001b[0;32m   1979\u001b[0m \u001b[38;5;66;03m# Measuring the fitness of each chromosome in the population. Save the fitness in the last_generation_fitness attribute.\u001b[39;00m\n\u001b[1;32m-> 1980\u001b[0m \u001b[38;5;28mself\u001b[39m\u001b[38;5;241m.\u001b[39mlast_generation_fitness \u001b[38;5;241m=\u001b[39m \u001b[38;5;28;43mself\u001b[39;49m\u001b[38;5;241;43m.\u001b[39;49m\u001b[43mcal_pop_fitness\u001b[49m\u001b[43m(\u001b[49m\u001b[43m)\u001b[49m\n\u001b[0;32m   1982\u001b[0m best_solution, best_solution_fitness, best_match_idx \u001b[38;5;241m=\u001b[39m \u001b[38;5;28mself\u001b[39m\u001b[38;5;241m.\u001b[39mbest_solution(\n\u001b[0;32m   1983\u001b[0m     pop_fitness\u001b[38;5;241m=\u001b[39m\u001b[38;5;28mself\u001b[39m\u001b[38;5;241m.\u001b[39mlast_generation_fitness)\n\u001b[0;32m   1985\u001b[0m \u001b[38;5;66;03m# Appending the best solution in the current generation to the best_solutions list.\u001b[39;00m\n",
      "File \u001b[1;32mc:\\Users\\LENOVO\\AppData\\Local\\Programs\\Python\\Python310\\lib\\site-packages\\pygad\\pygad.py:1660\u001b[0m, in \u001b[0;36mGA.cal_pop_fitness\u001b[1;34m(self)\u001b[0m\n\u001b[0;32m   1657\u001b[0m \u001b[38;5;66;03m# 'last_generation_parents_as_list' is the list version of 'self.last_generation_parents'\u001b[39;00m\n\u001b[0;32m   1658\u001b[0m \u001b[38;5;66;03m# It is used to return the parent index using the 'in' membership operator of Python lists. This is much faster than using 'numpy.where()'.\u001b[39;00m\n\u001b[0;32m   1659\u001b[0m \u001b[38;5;28;01mif\u001b[39;00m \u001b[38;5;28mself\u001b[39m\u001b[38;5;241m.\u001b[39mlast_generation_parents \u001b[38;5;129;01mis\u001b[39;00m \u001b[38;5;129;01mnot\u001b[39;00m \u001b[38;5;28;01mNone\u001b[39;00m:\n\u001b[1;32m-> 1660\u001b[0m     last_generation_parents_as_list \u001b[38;5;241m=\u001b[39m [\n\u001b[0;32m   1661\u001b[0m         \u001b[38;5;28mlist\u001b[39m(gen_parent) \u001b[38;5;28;01mfor\u001b[39;00m gen_parent \u001b[38;5;129;01min\u001b[39;00m \u001b[38;5;28mself\u001b[39m\u001b[38;5;241m.\u001b[39mlast_generation_parents]\n\u001b[0;32m   1663\u001b[0m \u001b[38;5;66;03m# 'last_generation_elitism_as_list' is the list version of 'self.last_generation_elitism'\u001b[39;00m\n\u001b[0;32m   1664\u001b[0m \u001b[38;5;66;03m# It is used to return the elitism index using the 'in' membership operator of Python lists. This is much faster than using 'numpy.where()'.\u001b[39;00m\n\u001b[0;32m   1665\u001b[0m \u001b[38;5;28;01mif\u001b[39;00m \u001b[38;5;28mself\u001b[39m\u001b[38;5;241m.\u001b[39mlast_generation_elitism \u001b[38;5;129;01mis\u001b[39;00m \u001b[38;5;129;01mnot\u001b[39;00m \u001b[38;5;28;01mNone\u001b[39;00m:\n",
      "File \u001b[1;32mc:\\Users\\LENOVO\\AppData\\Local\\Programs\\Python\\Python310\\lib\\site-packages\\pygad\\pygad.py:1660\u001b[0m, in \u001b[0;36m<listcomp>\u001b[1;34m(.0)\u001b[0m\n\u001b[0;32m   1657\u001b[0m \u001b[38;5;66;03m# 'last_generation_parents_as_list' is the list version of 'self.last_generation_parents'\u001b[39;00m\n\u001b[0;32m   1658\u001b[0m \u001b[38;5;66;03m# It is used to return the parent index using the 'in' membership operator of Python lists. This is much faster than using 'numpy.where()'.\u001b[39;00m\n\u001b[0;32m   1659\u001b[0m \u001b[38;5;28;01mif\u001b[39;00m \u001b[38;5;28mself\u001b[39m\u001b[38;5;241m.\u001b[39mlast_generation_parents \u001b[38;5;129;01mis\u001b[39;00m \u001b[38;5;129;01mnot\u001b[39;00m \u001b[38;5;28;01mNone\u001b[39;00m:\n\u001b[1;32m-> 1660\u001b[0m     last_generation_parents_as_list \u001b[38;5;241m=\u001b[39m [\n\u001b[0;32m   1661\u001b[0m         \u001b[38;5;28mlist\u001b[39m(gen_parent) \u001b[38;5;28;01mfor\u001b[39;00m gen_parent \u001b[38;5;129;01min\u001b[39;00m \u001b[38;5;28mself\u001b[39m\u001b[38;5;241m.\u001b[39mlast_generation_parents]\n\u001b[0;32m   1663\u001b[0m \u001b[38;5;66;03m# 'last_generation_elitism_as_list' is the list version of 'self.last_generation_elitism'\u001b[39;00m\n\u001b[0;32m   1664\u001b[0m \u001b[38;5;66;03m# It is used to return the elitism index using the 'in' membership operator of Python lists. This is much faster than using 'numpy.where()'.\u001b[39;00m\n\u001b[0;32m   1665\u001b[0m \u001b[38;5;28;01mif\u001b[39;00m \u001b[38;5;28mself\u001b[39m\u001b[38;5;241m.\u001b[39mlast_generation_elitism \u001b[38;5;129;01mis\u001b[39;00m \u001b[38;5;129;01mnot\u001b[39;00m \u001b[38;5;28;01mNone\u001b[39;00m:\n",
      "\u001b[1;31mKeyboardInterrupt\u001b[0m: "
     ]
    }
   ],
   "source": [
    "solution, _, _ = algo.run()"
   ]
  },
  {
   "cell_type": "code",
   "execution_count": null,
   "metadata": {},
   "outputs": [
    {
     "name": "stderr",
     "output_type": "stream",
     "text": [
      "No artists with labels found to put in legend.  Note that artists whose label start with an underscore are ignored when legend() is called with no argument.\n"
     ]
    },
    {
     "data": {
      "image/png": "[encoded data removed]",
      "text/plain": [
       "<Figure size 640x480 with 1 Axes>"
      ]
     },
     "metadata": {},
     "output_type": "display_data"
    }
   ],
   "source": [
    "algo.plot_results()"
   ]
  },
  {
   "cell_type": "code",
   "execution_count": null,
   "metadata": {},
   "outputs": [],
   "source": [
    "a = generate_feasible_individual(num_faculties=4, num_days=61, num_doctor1=19, num_doctor2=17, num_nurse=44, num_doctor1_per_day=1, num_doctor2_per_day=1, num_nurse_per_day=2)\n"
   ]
  },
  {
   "cell_type": "code",
   "execution_count": 54,
   "metadata": {},
   "outputs": [
    {
     "data": {
      "text/plain": [
       "array([0, 0, 0, 0, 1, 1, 1, 1, 0, 0, 1, 0, 1, 0, 0, 1, 1, 1])"
      ]
     },
     "execution_count": 54,
     "metadata": {},
     "output_type": "execute_result"
    }
   ],
   "source": [
    "a = np.array([[0, 0, 1, 0, 1, 1, ],\n",
    "              [0, 1, 1, 1, 0, 1, ],\n",
    "              [0, 1, 0, 0, 0, 1, ],])\n",
    "a.swapaxes(1, 0).flatten()"
   ]
  },
  {
   "cell_type": "code",
   "execution_count": 57,
   "metadata": {},
   "outputs": [],
   "source": [
    "def get_number_of_consecutive_sequences_longer_than_k(arr, k):\n",
    "    \"\"\"\n",
    "    Calculate the number of consecutive sequences longer than length k in axis 1\n",
    "    Args:\n",
    "        arr: binary 2D ndarray\n",
    "        k: int\n",
    "    Returns:\n",
    "        int\n",
    "    \"\"\"\n",
    "    zeros = np.zeros((1, arr.shape[1]))\n",
    "    arr = np.concatenate([zeros, arr, zeros], axis=0)\n",
    "    arr = arr.swapaxes(1, 0).flatten()\n",
    "    print(arr)\n",
    "    diff = np.diff(arr)\n",
    "    print(diff)\n",
    "    starts = np.where(diff == 1)[0]\n",
    "    ends = np.where(diff == -1)[0]\n",
    "    \n",
    "    lengths = ends - starts\n",
    "    return np.sum(lengths > 1)"
   ]
  },
  {
   "cell_type": "code",
   "execution_count": 58,
   "metadata": {},
   "outputs": [
    {
     "name": "stdout",
     "output_type": "stream",
     "text": [
      "[0. 0. 0. 0. 0. 0. 0. 1. 1. 0. 0. 1. 1. 0. 0. 0. 0. 1. 0. 0. 0. 1. 0. 0.\n",
      " 0. 0. 1. 1. 1. 0.]\n",
      "[ 0.  0.  0.  0.  0.  0.  1.  0. -1.  0.  1.  0. -1.  0.  0.  0.  1. -1.\n",
      "  0.  0.  1. -1.  0.  0.  0.  1.  0.  0. -1.]\n"
     ]
    },
    {
     "data": {
      "text/plain": [
       "3"
      ]
     },
     "execution_count": 58,
     "metadata": {},
     "output_type": "execute_result"
    }
   ],
   "source": [
    "get_number_of_consecutive_sequences_longer_than_k(a, 2)"
   ]
  },
  {
   "cell_type": "code",
   "execution_count": null,
   "metadata": {},
   "outputs": [],
   "source": []
  }
 ],
 "metadata": {
  "kernelspec": {
   "display_name": "Python 3",
   "language": "python",
   "name": "python3"
  },
  "language_info": {
   "codemirror_mode": {
    "name": "ipython",
    "version": 3
   },
   "file_extension": ".py",
   "mimetype": "text/x-python",
   "name": "python",
   "nbconvert_exporter": "python",
   "pygments_lexer": "ipython3",
   "version": "3.10.6"
  }
 },
 "nbformat": 4,
 "nbformat_minor": 2
}
